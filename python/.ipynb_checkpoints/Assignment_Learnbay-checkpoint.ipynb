{
 "cells": [
  {
   "cell_type": "markdown",
   "id": "94f14d07",
   "metadata": {},
   "source": [
    "# Assignment\n",
    "## Prateek Sharma, prateek1621sharma@gmail.com, 8860642644\n",
    "### 6th March Class - Boolean Assignment"
   ]
  },
  {
   "cell_type": "code",
   "execution_count": 1,
   "id": "afefde54",
   "metadata": {},
   "outputs": [
    {
     "name": "stdout",
     "output_type": "stream",
     "text": [
      "<class 'bool'> 140719776946280\n"
     ]
    }
   ],
   "source": [
    "#Q. Declare a boolean value and store it in a variable.Check the type and print the id of the same.\n",
    "\n",
    "a1 = True\n",
    "print(type(a1), id(a1))"
   ]
  },
  {
   "cell_type": "code",
   "execution_count": 2,
   "id": "d2862f88",
   "metadata": {},
   "outputs": [
    {
     "name": "stdout",
     "output_type": "stream",
     "text": [
      "140719776946280 140719776946280\n"
     ]
    },
    {
     "data": {
      "text/plain": [
       "'Memory address of both variables are same . This is due to object reusability concept of python. Due to interning, \\npython loads integers from -5 to 256(including 256) in memory and use these objects to assign reference to all variables\\nthat have values within this range, even if more than one variable has same value'"
      ]
     },
     "execution_count": 2,
     "metadata": {},
     "output_type": "execute_result"
    }
   ],
   "source": [
    "#Q. Take one boolean value between 0 - 256.Assign it to two different variables.Check the id of both the variables. \n",
    "#It should come the same. Check why?\n",
    "\n",
    "a = bool(47)\n",
    "b = bool(47)\n",
    "\n",
    "print (id(a), id(b)) \n",
    "\n",
    "\"\"\"Memory address of both variables are same . This is due to object reusability concept of python. Due to interning, \n",
    "python loads integers from -5 to 256(including 256) in memory and use these objects to assign reference to all variables\n",
    "that have values within this range, even if more than one variable has same value\"\"\"\n"
   ]
  },
  {
   "cell_type": "code",
   "execution_count": 3,
   "id": "991aa9b7",
   "metadata": {},
   "outputs": [
    {
     "name": "stdout",
     "output_type": "stream",
     "text": [
      "2 0 1 1.0 0 1 1\n"
     ]
    }
   ],
   "source": [
    "\"\"\"Q. Arithmetic Operations on boolean data\n",
    "Take two different boolean values.\n",
    "Store them in two different variables.\n",
    "Do below operations on them:-\n",
    "Find sum of both values\n",
    "Find difference between them\n",
    "Find the product of both.\n",
    "Find value after dividing first value with second value\n",
    "Find the remainder after dividing first value with second value\n",
    "Find the quotient after dividing first value with second value\n",
    "Find the result of first value to the power of second value.\"\"\"\n",
    "\n",
    "a = bool(5) # a will have value of 1\n",
    "b = bool(10) # b will have value of 2\n",
    "\n",
    "sum1 = a + b\n",
    "diff = a - b\n",
    "prod = a * b\n",
    "div = a/b\n",
    "rem = a%b\n",
    "quot = a//b\n",
    "pow1 = a**2\n",
    "\n",
    "print(sum1, diff, prod, div, rem, quot, pow1)"
   ]
  },
  {
   "cell_type": "code",
   "execution_count": 4,
   "id": "7d8ef01c",
   "metadata": {},
   "outputs": [
    {
     "name": "stdout",
     "output_type": "stream",
     "text": [
      "False True False <class 'bool'> True <class 'bool'> False <class 'bool'> True <class 'bool'>\n"
     ]
    }
   ],
   "source": [
    "\"\"\"Q. Comparison Operators on boolean values\n",
    "Take two different boolean values.\n",
    "Store them in two different variables.\n",
    "Do below operations on them:-\n",
    "Compare these two values with below operator:-\n",
    "Greater than, '>'\n",
    "less than, '<'\n",
    "Greater than or equal to, '>='\n",
    "Less than or equal to, '<='\n",
    "Observe their output(return type should be boolean)\"\"\"\n",
    "\n",
    "a = bool(0) # a will be False\n",
    "b = bool(\"*\") # b will be True\n",
    "\n",
    "g= a>b\n",
    "l= a<b\n",
    "ge= a>=b\n",
    "le= a<=b\n",
    "\n",
    "print(a, b , g, type(g), l, type(l), ge, type(ge), le, type(le)) # False is less than True"
   ]
  },
  {
   "cell_type": "code",
   "execution_count": 7,
   "id": "24be0302",
   "metadata": {},
   "outputs": [
    {
     "name": "stdout",
     "output_type": "stream",
     "text": [
      "True <class 'bool'> False <class 'bool'>\n"
     ]
    }
   ],
   "source": [
    "\"\"\"Q. Equality Operator\n",
    "Take two different boolean values.\n",
    "Store them in two different variables.\n",
    "Equate them using equality operators (==, !=)\n",
    "Observe the output(return type should be boolean)\"\"\"\n",
    "\n",
    "a= bool(21) # a will be True\n",
    "b = bool(\"$\") # b will be True\n",
    "\n",
    "print(a==b, type(a==b),  a!=b, type(a!=b))"
   ]
  },
  {
   "cell_type": "code",
   "execution_count": 8,
   "id": "64341f61",
   "metadata": {},
   "outputs": [
    {
     "name": "stdout",
     "output_type": "stream",
     "text": [
      "True\n",
      "False\n",
      "False\n",
      "False\n",
      "True\n",
      "True\n",
      "True\n",
      "False\n",
      "False\n",
      "True\n"
     ]
    }
   ],
   "source": [
    "\"\"\"Q. Logical operators\n",
    "Observe the output of below code\n",
    "Cross check the output manually\n",
    "print(True and True)\n",
    "#----------------------------------------->Output is True\n",
    "print(False and True)\n",
    "#----------------------------------------->Output is False\n",
    "print(True and False)\n",
    "#----------------------------------------->Output is False\n",
    "print(False and False)\n",
    "#----------------------------------------->Output is False\n",
    "print(True or True)\n",
    "#----------------------------------------->Output is True\n",
    "print(False or True)\n",
    "#----------------------------------------->Output is True\n",
    "print(True or False)\n",
    "#----------------------------------------->Output is True\n",
    "print(False or False)\n",
    "#----------------------------------------->Output is False\n",
    "print(not True)\n",
    "#----------------------------------------->Output is False\n",
    "print(not False)\n",
    "#----------------------------------------->Output is True\"\"\"\n",
    "\n",
    "print(True and True)\n",
    "#----------------------------------------->Output is True\n",
    "print(False and True)\n",
    "#----------------------------------------->Output is False\n",
    "print(True and False)\n",
    "#----------------------------------------->Output is False\n",
    "print(False and False)\n",
    "#----------------------------------------->Output is False\n",
    "print(True or True)\n",
    "#----------------------------------------->Output is True\n",
    "print(False or True)\n",
    "#----------------------------------------->Output is True\n",
    "print(True or False)\n",
    "#----------------------------------------->Output is True\n",
    "print(False or False)\n",
    "#----------------------------------------->Output is False\n",
    "print(not True)\n",
    "#----------------------------------------->Output is False\n",
    "print(not False)\n",
    "#----------------------------------------->Output is True"
   ]
  },
  {
   "cell_type": "code",
   "execution_count": null,
   "id": "9d569498",
   "metadata": {},
   "outputs": [],
   "source": [
    "\"\"\"Q. Bitwise Operators\n",
    "Do below operations on the values provided below:-\n",
    "Bitwise and(&) --------------> True, True -------> Output is True\n",
    "Bitwise or(|) --------------> True, False -------> Output is True\n",
    "Bitwise(^) --------------> True, False -------> Output is True\n",
    "Bitwise negation(~) ---------> True -------> Output is -2\n",
    "Bitwise left shift ---------> True,2 -------> Output is 4\n",
    "Bitwise right shift ---------> True,2 -------> Output is 0\n",
    "Cross check the output manually\"\"\"\n",
    "\n",
    "#NOT COVERED TILL NOW"
   ]
  },
  {
   "cell_type": "code",
   "execution_count": 9,
   "id": "7fa85ef6",
   "metadata": {},
   "outputs": [
    {
     "name": "stdout",
     "output_type": "stream",
     "text": [
      "True\n",
      "False\n",
      "True\n",
      "False\n"
     ]
    }
   ],
   "source": [
    "\"\"\"Q. What is the output of expression inside the print statement. Cross check before running the program.\n",
    "a = True\n",
    "b = True\n",
    "print(a is b) #True or False? #\n",
    "\n",
    "print(a is not b) #True or False?\n",
    "a = False\n",
    "b = False\n",
    "print(a is b) #True or False?\n",
    "print(a is not b) #True or False?\"\"\"\n",
    "\n",
    "a = True\n",
    "b = True\n",
    "print(a is b) #True or False? # - True a == b\n",
    "\n",
    "print(a is not b) #True or False? - False a != b\n",
    "a = False\n",
    "b = False\n",
    "print(a is b) #True or False? - True a == b\n",
    "print(a is not b) #True or False - False a != b"
   ]
  },
  {
   "cell_type": "code",
   "execution_count": 39,
   "id": "eedba58f",
   "metadata": {},
   "outputs": [
    {
     "name": "stdout",
     "output_type": "stream",
     "text": [
      "True\n",
      "True\n",
      "True\n",
      "True\n",
      "True\n"
     ]
    }
   ],
   "source": [
    "\"\"\"Q. Membership operation\n",
    "in, not in are two membership operators and it returns boolean value\n",
    "print(True in [10,10.20,10+20j,'Python', True])\n",
    "print(False in (10,10.20,10+20j,'Python', False))\n",
    "print(True in {1,2,3, True})\n",
    "print(True in {True:100, False:200, True:300})\n",
    "print(False in {True:100, False:200, True:300})\"\"\"\n",
    "\n",
    "print(True in [10,10.20,10+20j,'Python', True])\n",
    "print(False in (10,10.20,10+20j,'Python', False))\n",
    "print(True in {1,2,3, True})\n",
    "print(True in {True:100, False:200, True:300})\n",
    "print(False in {True:100, False:200, True:300})"
   ]
  },
  {
   "cell_type": "markdown",
   "id": "403697bf",
   "metadata": {},
   "source": [
    "# Assignment\n",
    "## Prateek Sharma, prateek1621sharma@gmail.com, 8860642644\n",
    "### 6th March Class - Complex Assignment"
   ]
  },
  {
   "cell_type": "code",
   "execution_count": 10,
   "id": "6c3a2636",
   "metadata": {},
   "outputs": [
    {
     "name": "stdout",
     "output_type": "stream",
     "text": [
      "(5+10j) <class 'complex'> 2591598097712\n"
     ]
    }
   ],
   "source": [
    "\"\"\"Q. Declare a complex number and store it in a variable.\n",
    "Check the type and print the id of the same.\"\"\"\n",
    "\n",
    "com = 5 +10j\n",
    "\n",
    "print(com, type(com), id(com))"
   ]
  },
  {
   "cell_type": "code",
   "execution_count": 20,
   "id": "c7fc766f",
   "metadata": {},
   "outputs": [
    {
     "name": "stdout",
     "output_type": "stream",
     "text": [
      "(7+13j) (-3-7j) (-20+35j) (0.32-0.04j) (0.014585890266655957-0.029443025493050282j)\n"
     ]
    }
   ],
   "source": [
    "\"\"\"Q. Arithmetic Operations on complex number\n",
    "Take two different complex numbers.\n",
    "Store them in two different variables.\n",
    "Do below operations on them:-\n",
    "Find sum of both numbers\n",
    "Find difference between them\n",
    "Find the product of both numbers.\n",
    "Find value after dividing first num with second number\n",
    "Find the result of the first num to the power of the second number.\"\"\"\n",
    "\n",
    "a= 2+3j\n",
    "b= 5+10j\n",
    "\n",
    "print(a+b, a-b, a*b, a/b, a**b)"
   ]
  },
  {
   "cell_type": "code",
   "execution_count": 31,
   "id": "63fbe911",
   "metadata": {},
   "outputs": [
    {
     "name": "stdout",
     "output_type": "stream",
     "text": [
      "2591598096944 2591598098640\n"
     ]
    },
    {
     "ename": "TypeError",
     "evalue": "'>' not supported between instances of 'complex' and 'complex'",
     "output_type": "error",
     "traceback": [
      "\u001b[1;31m---------------------------------------------------------------------------\u001b[0m",
      "\u001b[1;31mTypeError\u001b[0m                                 Traceback (most recent call last)",
      "\u001b[1;32m~\\AppData\\Local\\Temp\\2/ipykernel_5948/3691106635.py\u001b[0m in \u001b[0;36m<module>\u001b[1;34m\u001b[0m\n\u001b[0;32m      8\u001b[0m \u001b[1;33m\u001b[0m\u001b[0m\n\u001b[0;32m      9\u001b[0m \u001b[0mprint\u001b[0m\u001b[1;33m(\u001b[0m\u001b[0mid\u001b[0m\u001b[1;33m(\u001b[0m\u001b[0ma\u001b[0m\u001b[1;33m)\u001b[0m\u001b[1;33m,\u001b[0m \u001b[0mid\u001b[0m\u001b[1;33m(\u001b[0m\u001b[0mb\u001b[0m\u001b[1;33m)\u001b[0m\u001b[1;33m)\u001b[0m\u001b[1;33m\u001b[0m\u001b[1;33m\u001b[0m\u001b[0m\n\u001b[1;32m---> 10\u001b[1;33m \u001b[0mprint\u001b[0m\u001b[1;33m(\u001b[0m\u001b[0ma\u001b[0m\u001b[1;33m>\u001b[0m\u001b[0mb\u001b[0m\u001b[1;33m,\u001b[0m \u001b[0ma\u001b[0m\u001b[1;33m>\u001b[0m\u001b[0mc\u001b[0m\u001b[1;33m)\u001b[0m\u001b[1;33m\u001b[0m\u001b[1;33m\u001b[0m\u001b[0m\n\u001b[0m",
      "\u001b[1;31mTypeError\u001b[0m: '>' not supported between instances of 'complex' and 'complex'"
     ]
    }
   ],
   "source": [
    "\"\"\"Q. Comparison Operation not applicable between instance of complex\n",
    "values.\n",
    "Object reusability concept is not applicable on complex number\"\"\"\n",
    "\n",
    "a= 2+3j\n",
    "b= 2+3j\n",
    "c= 5+3j\n",
    "\n",
    "print(id(a), id(b))\n",
    "print(a>b, a>c)"
   ]
  },
  {
   "cell_type": "code",
   "execution_count": 33,
   "id": "ba157dca",
   "metadata": {},
   "outputs": [
    {
     "name": "stdout",
     "output_type": "stream",
     "text": [
      "True <class 'bool'> True <class 'bool'>\n"
     ]
    }
   ],
   "source": [
    "\"\"\"Q. Equality Operator\n",
    "Take two different complex numbers.\n",
    "Store them in two different variables.\n",
    "Equate them using equality operators (==, !=)\n",
    "Observe the output(return type should be boolean)\"\"\"\n",
    "\n",
    "a= 2+3j\n",
    "b= 2+3j\n",
    "c= 5+3j\n",
    "\n",
    "print(a==b, type(a==b), a!=c, type(a!=c))"
   ]
  },
  {
   "cell_type": "code",
   "execution_count": 34,
   "id": "3dce2d29",
   "metadata": {},
   "outputs": [
    {
     "name": "stdout",
     "output_type": "stream",
     "text": [
      "(20+30j)\n",
      "0j\n",
      "0j\n",
      "0j\n",
      "(10+20j)\n",
      "(20+30j)\n",
      "(20+30j)\n",
      "0j\n",
      "False\n",
      "True\n"
     ]
    }
   ],
   "source": [
    "\"\"\"Q. Logical operators\n",
    "Observe the output of below code\n",
    "Cross check the output manually\n",
    "print(10+20j and 20+30j) #20+30j\n",
    "#----------------------------------------->Output is 20+30j\n",
    "print(0+0j and 20+30j) #0+0j\n",
    "#----------------------------------------->Output is 0j\n",
    "print(20+30j and 0+0j) #0+0j\n",
    "#----------------------------------------->Output is 0j\n",
    "print(0+0j and 0+0j) #0+0j\n",
    "#----------------------------------------->Output is 0j\n",
    "print(10+20j or 20+30j) #10+20j\n",
    "#----------------------------------------->Output is 10+20j\n",
    "\n",
    "print(0+0j or 20+30j) #20+30j\n",
    "#----------------------------------------->Output is 20+30j\n",
    "print(20+30j or 0+0j) #20+30j\n",
    "#----------------------------------------->Output is 20+30j\n",
    "print(0+0j or 0+0j) #0+0j\n",
    "#----------------------------------------->Output is 0j\n",
    "print(not 10+20j) #False\n",
    "#----------------------------------------->Output is False\n",
    "print(not 0+0j) #True\n",
    "#----------------------------------------->Output is True\"\"\"\n",
    "\n",
    "print(10+20j and 20+30j) #20+30j\n",
    "#----------------------------------------->Output is 20+30j -Yes\n",
    "print(0+0j and 20+30j) #0+0j\n",
    "#----------------------------------------->Output is 0j-Yes\n",
    "print(20+30j and 0+0j) #0+0j\n",
    "#----------------------------------------->Output is 0j-Yes\n",
    "print(0+0j and 0+0j) #0+0j\n",
    "#----------------------------------------->Output is 0j-Yes\n",
    "print(10+20j or 20+30j) #10+20j\n",
    "#----------------------------------------->Output is 10+20j-Yes\n",
    "\n",
    "print(0+0j or 20+30j) #20+30j\n",
    "#----------------------------------------->Output is 20+30j-Yes\n",
    "print(20+30j or 0+0j) #20+30j\n",
    "#----------------------------------------->Output is 20+30j-Yes\n",
    "print(0+0j or 0+0j) #0+0j\n",
    "#----------------------------------------->Output is 0j-Yes\n",
    "print(not 10+20j) #False\n",
    "#----------------------------------------->Output is False-Yes\n",
    "print(not 0+0j) #True\n",
    "#----------------------------------------->Output is True-Yes"
   ]
  },
  {
   "cell_type": "code",
   "execution_count": 37,
   "id": "2d421ea4",
   "metadata": {},
   "outputs": [
    {
     "name": "stdout",
     "output_type": "stream",
     "text": [
      "False\n",
      "True\n"
     ]
    }
   ],
   "source": [
    "\"\"\"Q. What is the output of the expression inside the print statement.\n",
    "Cross check before running the program.\n",
    "a = 10+20j\n",
    "b = 10+20j\n",
    "print(a is b) #False #True or False?\n",
    "print(a is not b) #True #True or False?\"\"\"\n",
    "\n",
    "a = 10+20j\n",
    "b = 10+20j\n",
    "\n",
    "print(a is b) #False #True or False?\n",
    "print(a is not b) #True #True or False?\n",
    "\n",
    "#DIDNOT UNDERSTAND"
   ]
  },
  {
   "cell_type": "code",
   "execution_count": 38,
   "id": "50b863b7",
   "metadata": {},
   "outputs": [
    {
     "name": "stdout",
     "output_type": "stream",
     "text": [
      "True\n",
      "True\n",
      "True\n",
      "True\n",
      "True\n",
      "True\n"
     ]
    }
   ],
   "source": [
    "\"\"\"Q. Membership operation\n",
    "in, not in are two membership operators and it returns boolean value\n",
    "print('2.7' in 'Python2.7.8') #True\n",
    "print(10+20j in [10,10.20,10+20j,'Python']) #True\n",
    "print(10+20j in (10,10.20,10+20j,'Python')) #True\n",
    "print(30+40j in {1,20.30,30+40j}) #True\n",
    "print(30+40j in {1:100, 2.3:200, 30+40j:300}) #True\n",
    "print(10 in range(20)) #True\"\"\"\n",
    "\n",
    "print('2.7' in 'Python2.7.8') #True\n",
    "print(10+20j in [10,10.20,10+20j,'Python']) #True\n",
    "print(10+20j in (10,10.20,10+20j,'Python')) #True\n",
    "print(30+40j in {1,20.30,30+40j}) #True\n",
    "print(30+40j in {1:100, 2.3:200, 30+40j:300}) #True\n",
    "print(10 in range(20)) #True"
   ]
  },
  {
   "cell_type": "markdown",
   "id": "fc7e1909",
   "metadata": {},
   "source": [
    "# Assignment\n",
    "## Prateek Sharma, prateek1621sharma@gmail.com, 8860642644\n",
    "### 6th March Class - Float Assignment"
   ]
  },
  {
   "cell_type": "code",
   "execution_count": 40,
   "id": "bd5f103e",
   "metadata": {},
   "outputs": [
    {
     "name": "stdout",
     "output_type": "stream",
     "text": [
      "5.67 <class 'float'> 2591598098000\n"
     ]
    }
   ],
   "source": [
    "\"\"\"Q. Declare a float value and store it in a variable.\n",
    "Check the type and print the id of the same.\"\"\"\n",
    "\n",
    "a=5.67\n",
    "\n",
    "print(a, type(a), id(a))"
   ]
  },
  {
   "cell_type": "code",
   "execution_count": 41,
   "id": "4d3e9f04",
   "metadata": {},
   "outputs": [
    {
     "name": "stdout",
     "output_type": "stream",
     "text": [
      "11.276 -2.276 30.491999999999997 0.6641086186540732 0.0 26678.90455573563\n"
     ]
    }
   ],
   "source": [
    "\"\"\"Q. Arithmetic Operations on float\n",
    "Take two different float values.\n",
    "Store them in two different variables.\n",
    "Do below operations on them:-\n",
    "Find sum of both numbers\n",
    "Find difference between them\n",
    "Find the product of both numbers.\n",
    "Find value after dividing first num with second number\n",
    "Find the remainder after dividing first number with second number\n",
    "Find the quotient after dividing first number with second number\n",
    "Find the result of the first num to the power of the second number.\"\"\"\n",
    "\n",
    "a=4.5\n",
    "b=6.776\n",
    "\n",
    "print(a+b, a-b, a*b, a/b, a//b, a**b)"
   ]
  },
  {
   "cell_type": "code",
   "execution_count": 44,
   "id": "09dbce4a",
   "metadata": {},
   "outputs": [
    {
     "name": "stdout",
     "output_type": "stream",
     "text": [
      "False True False True\n"
     ]
    }
   ],
   "source": [
    "\"\"\"Q. Comparison Operators on float\n",
    "Take two different float values.\n",
    "Store them in two different variables.\n",
    "Do below operations on them:-\n",
    "Compare these two numbers with below operator:-\n",
    "Greater than, '>'\n",
    "Smaller than, '<'\n",
    "Greater than or equal to, '>='\n",
    "Less than or equal to, '<='\n",
    "Observe their output(return type should be boolean)\"\"\"\n",
    "\n",
    "a = 9.76\n",
    "b = 9.761\n",
    "\n",
    "print(a>b, a<b, a>=b, a<=b)"
   ]
  },
  {
   "cell_type": "code",
   "execution_count": 45,
   "id": "db9b43bb",
   "metadata": {},
   "outputs": [
    {
     "name": "stdout",
     "output_type": "stream",
     "text": [
      "False True\n"
     ]
    }
   ],
   "source": [
    "\"\"\"Q. Equality Operator\n",
    "Take two different float values.\n",
    "Store them in two different variables.\n",
    "Equate them using equality operators (==, !=)\n",
    "Observe the output(return type should be boolean)\"\"\"\n",
    "\n",
    "a=4.56\n",
    "b=6.68\n",
    "\n",
    "print(a==b, a!=b)"
   ]
  },
  {
   "cell_type": "code",
   "execution_count": 49,
   "id": "d896e0e3",
   "metadata": {},
   "outputs": [
    {
     "name": "stdout",
     "output_type": "stream",
     "text": [
      "20.3\n",
      "0.0\n",
      "0.0\n",
      "0.0\n",
      "10.2\n",
      "20.3\n",
      "20.3\n",
      "0.0\n",
      "False\n",
      "True\n"
     ]
    }
   ],
   "source": [
    "\"\"\"Q. Logical operators\n",
    "Observe the output of below code\n",
    "Cross check the output manually\n",
    "print(10.20 and 20.30) #both are true and second value taken\n",
    ">Output is 20.3\n",
    "print(0.0 and 20.30) #First is false so first value\n",
    "taken->Output is 0.0\n",
    "\n",
    "print(20.30 and 0.0) #Goes to till second and second value is\n",
    "false so second is taken>Output is 0.0\n",
    "print(0.0 and 0.0) #First is false so first value is\n",
    "taken->Output is 0.0\n",
    "print(10.20 or 20.30) #First is True so first value is\n",
    "taken>Output is 10.2\n",
    "print(0.0 or 20.30) #Goes to till second and second is true\n",
    "second value is taken->Output is 20.3\n",
    "print(20.30 or 0.0) #First is True so first value is\n",
    "taken->Output is 20.3\n",
    "print(0.0 or 0.0) #Goes to till second and second is also\n",
    "false and second value is taken>Output is 0.0\n",
    "print(not 10.20) #-Not of true is false->Output is False\n",
    "print(not 0.0) #Not of false is True>Output is True\"\"\"\n",
    "\n",
    "print(10.20 and 20.30) #both are true and second value taken >Output is 20.3\n",
    "print(0.0 and 20.30) #First is false so first value taken->Output is 0.0\n",
    "print(20.30 and 0.0) #Goes to till second and second value is false so second is taken>Output is 0.0\n",
    "print(0.0 and 0.0) #First is false so first value is taken->Output is 0.0\n",
    "print(10.20 or 20.30) #First is True so first value is taken>Output is 10.2\n",
    "print(0.0 or 20.30) #Goes to till second and second is true second value is taken->Output is 20.3\n",
    "print(20.30 or 0.0) #First is True so first value is taken->Output is 20.3\n",
    "print(0.0 or 0.0) #Goes to till second and second is also false and second value is taken>Output is 0.0\n",
    "print(not 10.20) #-Not of true is false->Output is False\n",
    "print(not 0.0) #Not of false is True>Output is True\n"
   ]
  },
  {
   "cell_type": "code",
   "execution_count": 53,
   "id": "7e44202a",
   "metadata": {},
   "outputs": [
    {
     "name": "stdout",
     "output_type": "stream",
     "text": [
      "False\n",
      "True\n",
      "2591597763216 2591598100144\n"
     ]
    }
   ],
   "source": [
    "\"\"\"Q. What is the output of expression inside print statement. Cross check\n",
    "before running the program.\n",
    "a = 10.20\n",
    "b - 10.20\n",
    "print(a is b) #True or False? True 10.20<256\n",
    "print(a is not b) #True or False? False\n",
    "Why the Id of float values are different when the same value is\n",
    "assigned to two different variables\n",
    "ex: a = 10.5 b=10.5. but id will be same if I assign the variable\n",
    "having float i.e. a=c then both a and c's Id are same\"\"\"\n",
    "\n",
    "a = 10.20\n",
    "b = 10.20\n",
    "print(a is b) #True or False? True 10.20<256\n",
    "print(a is not b) #True or False? False\n",
    "print(id(a), id(b)) \n",
    "\n",
    "# id is different because intenringis not done in case of floats by python"
   ]
  },
  {
   "cell_type": "code",
   "execution_count": null,
   "id": "2ff26564",
   "metadata": {},
   "outputs": [],
   "source": [
    "\"\"\"Q. Bitwise operation is not applicable between instances of float.\n",
    "Why the Id of float values are different when the same value is\n",
    "assigned to two different variables\n",
    "ex: a = 10.5 b=10.5. but id will be same if I assign the variable\n",
    "having float i.e. a=c then both a and c's Id are same\n",
    "Object reusability concept is not applicable on float values.\"\"\"\n",
    "\n",
    "# Object reusability is applicable but interning is not applicable for float values - PLz confirm."
   ]
  },
  {
   "cell_type": "code",
   "execution_count": 54,
   "id": "03f836f7",
   "metadata": {},
   "outputs": [
    {
     "name": "stdout",
     "output_type": "stream",
     "text": [
      "True\n",
      "True\n",
      "True\n",
      "True\n",
      "True\n",
      "True\n"
     ]
    }
   ],
   "source": [
    "\"\"\"Q. Membership operation\n",
    "in, not in are two membership operators and it returns boolean value\n",
    "print('2.7' in 'Python2.7.8') #True\n",
    "print(10.20 in [10,10.20,10+20j,'Python']) #True\n",
    "print(10.20 in (10,10.20,10+20j,'Python')) # True\n",
    "print(20.30 in {1,20.30,30+40j}) # True\n",
    "print(2.3 in {1:100, 2.3:200, 30+40j:300}) # True\n",
    "print(10 in range(20)) # True\"\"\"\n",
    "\n",
    "print('2.7' in 'Python2.7.8') #True\n",
    "print(10.20 in [10,10.20,10+20j,'Python']) #True\n",
    "print(10.20 in (10,10.20,10+20j,'Python')) # True\n",
    "print(20.30 in {1,20.30,30+40j}) # True\n",
    "print(2.3 in {1:100, 2.3:200, 30+40j:300}) # True\n",
    "print(10 in range(20)) # True"
   ]
  },
  {
   "cell_type": "markdown",
   "id": "5f68158c",
   "metadata": {},
   "source": [
    "# Assignment\n",
    "## Prateek Sharma, prateek1621sharma@gmail.com, 8860642644\n",
    "### 6th March Class - Integer Assignment"
   ]
  },
  {
   "cell_type": "code",
   "execution_count": 55,
   "id": "5bdc4b3f",
   "metadata": {},
   "outputs": [
    {
     "name": "stdout",
     "output_type": "stream",
     "text": [
      "2 <class 'int'> 2591516354896\n"
     ]
    }
   ],
   "source": [
    "\"\"\"Q. Declare an int value and store it in a variable.\n",
    "Check the type and print the id of the same.\"\"\"\n",
    "\n",
    "a=2\n",
    "\n",
    "print(a, type(a), id(a))"
   ]
  },
  {
   "cell_type": "code",
   "execution_count": 56,
   "id": "d73b063c",
   "metadata": {},
   "outputs": [
    {
     "name": "stdout",
     "output_type": "stream",
     "text": [
      "2591516356272 2591516356272\n"
     ]
    }
   ],
   "source": [
    "\"\"\"Q. Take one int value between 0 - 256.\n",
    "Assign it to two different variables.\n",
    "Check the id of both the variables. It should come the same. Check why?\"\"\"\n",
    "\n",
    "a = 45\n",
    "b = 45\n",
    "\n",
    "print(id(a), id(b)) # id is same due ot interning"
   ]
  },
  {
   "cell_type": "code",
   "execution_count": 57,
   "id": "3708c022",
   "metadata": {},
   "outputs": [
    {
     "name": "stdout",
     "output_type": "stream",
     "text": [
      "2591599080304 2591599080144\n"
     ]
    }
   ],
   "source": [
    "\"\"\"Q. Take one int value either less than -5 or greater than 256.\n",
    "Assign it to two different variables.\n",
    "Check the id of both the variables. It should come different.Check why?\"\"\"\n",
    "\n",
    "a = 445\n",
    "b = 445\n",
    "\n",
    "print(id(a), id(b)) # id is different since interning is done only for values betweem -5 & 256 (included)"
   ]
  },
  {
   "cell_type": "code",
   "execution_count": 58,
   "id": "39cc065c",
   "metadata": {},
   "outputs": [
    {
     "name": "stdout",
     "output_type": "stream",
     "text": [
      "20 8 84 2.3333333333333335 2 7529536\n"
     ]
    }
   ],
   "source": [
    "\"\"\"Q. Arithmetic Operations on integers\n",
    "Take two different integer values.\n",
    "Store them in two different variables.\n",
    "Do below operations on them:-\n",
    "Find sum of both numbers\n",
    "Find difference between them\n",
    "Find the product of both numbers.\n",
    "Find value after dividing first num with second number\n",
    "Find the remainder after dividing first number with second number\n",
    "Find the quotient after dividing first number with second number\n",
    "Find the result of the first num to the power of the second number.\"\"\"\n",
    "\n",
    "a=14\n",
    "b=6\n",
    "\n",
    "print(a+b, a-b, a*b, a/b, a//b, a**b)"
   ]
  },
  {
   "cell_type": "code",
   "execution_count": 59,
   "id": "a95ce6b8",
   "metadata": {},
   "outputs": [
    {
     "name": "stdout",
     "output_type": "stream",
     "text": [
      "True False False True\n"
     ]
    }
   ],
   "source": [
    "\"\"\"Q. Comparison Operators on integers\n",
    "Take two different integer values.\n",
    "Store them in two different variables.\n",
    "Do below operations on them:-\n",
    "Compare se two numbers with below operator:-\n",
    "Greater than, '>'\n",
    "Smaller than, '<'\n",
    "Greater than or equal to, '>='\n",
    "Less than or equal to, '<='\n",
    "Observe their output(return type should be boolean)\"\"\"\n",
    "\n",
    "a=4\n",
    "b=-56\n",
    "\n",
    "print(a>b, a<b, a<=b, a>=b)"
   ]
  },
  {
   "cell_type": "code",
   "execution_count": 60,
   "id": "d48f844f",
   "metadata": {},
   "outputs": [
    {
     "name": "stdout",
     "output_type": "stream",
     "text": [
      "False True\n"
     ]
    }
   ],
   "source": [
    "\"\"\"Q. Equality Operator\n",
    "Take two different integer values.\n",
    "Store them in two different variables.\n",
    "Equate them using equality operators (==, !=)\n",
    "Observe the output(return type should be boolean)\"\"\"\n",
    "\n",
    "a=44\n",
    "b=-345\n",
    "\n",
    "print(a==b, a!=b)"
   ]
  },
  {
   "cell_type": "code",
   "execution_count": 61,
   "id": "c0f4203d",
   "metadata": {},
   "outputs": [
    {
     "name": "stdout",
     "output_type": "stream",
     "text": [
      "20\n",
      "0\n",
      "0\n",
      "0\n",
      "10\n",
      "20\n",
      "20\n",
      "0\n",
      "False\n",
      "True\n"
     ]
    }
   ],
   "source": [
    "\"\"\"Q. Logical operators\n",
    "Observe the output of below code\n",
    "\n",
    "Cross check the output manually\n",
    "print(10 and 20)\n",
    "#----------------------------------------->Output is 20\n",
    "print(0 and 20)\n",
    "#----------------------------------------->Output is 0\n",
    "print(20 and 0)\n",
    "#----------------------------------------->Output is 0\n",
    "print(0 and 0)\n",
    "#----------------------------------------->Output is 0\n",
    "print(10 or 20)\n",
    "#----------------------------------------->Output is 10\n",
    "print(0 or 20)\n",
    "#----------------------------------------->Output is 20\n",
    "print(20 or 0)\n",
    "#----------------------------------------->Output is 20\n",
    "print(0 or 0)\n",
    "#----------------------------------------->Output is 0\n",
    "print(not 10)\n",
    "#----------------------------------------->Output is False\n",
    "print(not 0)\n",
    "#----------------------------------------->Output is True\"\"\"\n",
    "\n",
    "\n",
    "print(10 and 20)\n",
    "#----------------------------------------->Output is 20\n",
    "print(0 and 20)\n",
    "#----------------------------------------->Output is 0\n",
    "print(20 and 0)\n",
    "#----------------------------------------->Output is 0\n",
    "print(0 and 0)\n",
    "#----------------------------------------->Output is 0\n",
    "print(10 or 20)\n",
    "#----------------------------------------->Output is 10\n",
    "print(0 or 20)\n",
    "#----------------------------------------->Output is 20\n",
    "print(20 or 0)\n",
    "#----------------------------------------->Output is 20\n",
    "print(0 or 0)\n",
    "#----------------------------------------->Output is 0\n",
    "print(not 10)\n",
    "#----------------------------------------->Output is False\n",
    "print(not 0)\n",
    "#----------------------------------------->Output is True"
   ]
  },
  {
   "cell_type": "code",
   "execution_count": null,
   "id": "a012dac7",
   "metadata": {},
   "outputs": [],
   "source": [
    "\"\"\"Q. Bitwise Operators\n",
    "Do below operations on the values provided below:-\n",
    "Bitwise and(&) -----------------------------------------> 10, 20\n",
    "-------> Output is 0\n",
    "Bitwise or(|) -----------------------------------------> 10, 20\n",
    "-------> Output is 30\n",
    "Bitwise(^) -----------------------------------------> 10, 20\n",
    "-------> Output is 30\n",
    "Bitwise negation(~) ------------------------------------> 10\n",
    "-------> Output is -11\n",
    "Bitwise left shift ------------------------------------> 10,2\n",
    "-------> Output is 40\n",
    "Bitwise right shift ------------------------------------> 10,2\n",
    "-------> Output is 2\n",
    "Cross check the output manually\"\"\"\n",
    "\n",
    "#NOT COVERED TILL NOW"
   ]
  },
  {
   "cell_type": "code",
   "execution_count": 62,
   "id": "981cc218",
   "metadata": {},
   "outputs": [
    {
     "name": "stdout",
     "output_type": "stream",
     "text": [
      "True\n",
      "False\n",
      "False\n",
      "True\n"
     ]
    }
   ],
   "source": [
    "\"\"\"Q. What is the output of expression inside print statement. Cross check\n",
    "before running the program.\n",
    "\n",
    "a = 10\n",
    "b = 10\n",
    "print(a is b) #True or False?\n",
    "print(a is not b) #True or False?\n",
    "a = 1000\n",
    "b = 1000\n",
    "print(a is b) #True or False?\n",
    "print(a is not b) #True or False?\"\"\"\n",
    "\n",
    "a = 10\n",
    "b = 10\n",
    "print(a is b) #True or False?      # in this case interning happens\n",
    "print(a is not b) #True or False?\n",
    "a = 1000\n",
    "b = 1000\n",
    "print(a is b) #True or False?      # in this case interning doesnot happen\n",
    "print(a is not b) #True or False?"
   ]
  },
  {
   "cell_type": "code",
   "execution_count": 63,
   "id": "75854f75",
   "metadata": {},
   "outputs": [
    {
     "name": "stdout",
     "output_type": "stream",
     "text": [
      "20\n"
     ]
    }
   ],
   "source": [
    "\"\"\"Q. What is the output of expression inside print statement. Cross check\n",
    "before running the program.\n",
    "print(10+(10*32)//2**5&20+(~(-10))<<2)\"\"\"\n",
    "\n",
    "print(10+(10*32)//2**5&20+(~(-10))<<2)"
   ]
  },
  {
   "cell_type": "code",
   "execution_count": 64,
   "id": "267fe349",
   "metadata": {},
   "outputs": [
    {
     "name": "stdout",
     "output_type": "stream",
     "text": [
      "True\n",
      "True\n",
      "True\n",
      "True\n",
      "True\n",
      "True\n"
     ]
    }
   ],
   "source": [
    "\"\"\"Q. Membership operation\n",
    "in, not in are two membership operators and it returns boolean value\n",
    "print('2' in 'Python2.7.8')\n",
    "print(10 in [10,10.20,10+20j,'Python'])\n",
    "print(10 in (10,10.20,10+20j,'Python'))\n",
    "print(2 in {1,2,3})\n",
    "print(3 in {1:100, 2:200, 3:300})\n",
    "print(10 in range(20))\"\"\"\n",
    "\n",
    "print('2' in 'Python2.7.8')\n",
    "print(10 in [10,10.20,10+20j,'Python'])\n",
    "print(10 in (10,10.20,10+20j,'Python'))\n",
    "print(2 in {1,2,3})\n",
    "print(3 in {1:100, 2:200, 3:300})\n",
    "print(10 in range(20))"
   ]
  },
  {
   "cell_type": "code",
   "execution_count": 67,
   "id": "b5ce338c",
   "metadata": {},
   "outputs": [
    {
     "name": "stdout",
     "output_type": "stream",
     "text": [
      "0b1100010101 0o27 0xa7\n",
      "0b10011010010100 0o23224 0x2694\n"
     ]
    }
   ],
   "source": [
    "\"\"\"Q. An integer can be represented in binary, octal or hexadecimal form.\n",
    "Declare one binary, one octal and one hexadecimal value and store them\n",
    "in three different variables.\n",
    "Convert 9876 to its binary, octal and hexadecimal equivalent and print\n",
    "their corresponding value.\"\"\"\n",
    "\n",
    "a=bin(789)\n",
    "b=oct(23)\n",
    "c=hex(167)\n",
    "\n",
    "print(a, b, c)\n",
    "\n",
    "print(bin(9876), oct(9876), hex(9876))"
   ]
  },
  {
   "cell_type": "code",
   "execution_count": 68,
   "id": "5c09f121",
   "metadata": {},
   "outputs": [
    {
     "name": "stdout",
     "output_type": "stream",
     "text": [
      "80\n",
      "3870\n",
      "64222\n",
      "0b1010000\n",
      "0o7436\n",
      "0xfade\n",
      "0b1010000\n",
      "0b1111101011011110\n",
      "0o175336\n",
      "0o7436\n",
      "0x50\n",
      "0xfade\n"
     ]
    }
   ],
   "source": [
    "\"\"\"Q. What will be the output of following:-\n",
    "a = 0b1010000\n",
    "print(a)\n",
    "b = 0o7436\n",
    "print(b)\n",
    "c = 0xfade\n",
    "print(c)\n",
    "print(bin(80))\n",
    "\n",
    "print(oct(3870))\n",
    "print(hex(64222))\n",
    "print(bin(0b1010000))\n",
    "print(bin(0xfade))\n",
    "print(oct(0xfade))\n",
    "print(oct(0o7436))\n",
    "print(hex(0b1010000))\n",
    "print(hex(0xfade))\"\"\"\n",
    "\n",
    "a = 0b1010000\n",
    "print(a)   # prints decimal format of integer by default\n",
    "b = 0o7436\n",
    "print(b)     # prints decimal format of integer by default\n",
    "c = 0xfade\n",
    "print(c)    # prints decimal format of integer by default\n",
    "print(bin(80)) # prints binary format of 80\n",
    "\n",
    "print(oct(3870))# prints octal format\n",
    "print(hex(64222))# prints hexadecimal format\n",
    "print(bin(0b1010000))# prints binary format\n",
    "print(bin(0xfade))# prints binary format\n",
    "print(oct(0xfade))# prints octal format\n",
    "print(oct(0o7436))# prints octal format\n",
    "print(hex(0b1010000))# prints hexadecimal format\n",
    "print(hex(0xfade))# prints hexadecimal format"
   ]
  },
  {
   "cell_type": "code",
   "execution_count": null,
   "id": "37da7d92",
   "metadata": {},
   "outputs": [],
   "source": []
  },
  {
   "cell_type": "code",
   "execution_count": null,
   "id": "ac74af89",
   "metadata": {},
   "outputs": [],
   "source": []
  },
  {
   "cell_type": "code",
   "execution_count": null,
   "id": "f9a0c95c",
   "metadata": {},
   "outputs": [],
   "source": []
  },
  {
   "cell_type": "code",
   "execution_count": null,
   "id": "d38fc614",
   "metadata": {},
   "outputs": [],
   "source": []
  },
  {
   "cell_type": "code",
   "execution_count": null,
   "id": "5748913a",
   "metadata": {},
   "outputs": [],
   "source": []
  }
 ],
 "metadata": {
  "kernelspec": {
   "display_name": "Python 3 (ipykernel)",
   "language": "python",
   "name": "python3"
  },
  "language_info": {
   "codemirror_mode": {
    "name": "ipython",
    "version": 3
   },
   "file_extension": ".py",
   "mimetype": "text/x-python",
   "name": "python",
   "nbconvert_exporter": "python",
   "pygments_lexer": "ipython3",
   "version": "3.9.7"
  }
 },
 "nbformat": 4,
 "nbformat_minor": 5
}
