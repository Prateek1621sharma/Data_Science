{
 "cells": [
  {
   "cell_type": "markdown",
   "id": "2a97b6a9",
   "metadata": {},
   "source": [
    "# Assignment\n",
    "## Prateek Sharma, prateek1621sharma@gmail.com, 8860642644\n",
    "### 6th March Class - Boolean Assignment"
   ]
  },
  {
   "cell_type": "code",
   "execution_count": 1,
   "id": "815af2e3",
   "metadata": {},
   "outputs": [
    {
     "name": "stdout",
     "output_type": "stream",
     "text": [
      "<class 'bool'> 140719776946280\n"
     ]
    }
   ],
   "source": [
    "#Q. Declare a boolean value and store it in a variable.Check the type and print the id of the same.\n",
    "\n",
    "a1 = True\n",
    "print(type(a1), id(a1))"
   ]
  },
  {
   "cell_type": "code",
   "execution_count": 2,
   "id": "18f1965d",
   "metadata": {},
   "outputs": [
    {
     "name": "stdout",
     "output_type": "stream",
     "text": [
      "140719776946280 140719776946280\n"
     ]
    }
   ],
   "source": [
    "#Q. Take one boolean value between 0 - 256.Assign it to two different variables.Check the id of both the variables. \n",
    "#It should come the same. Check why?\n",
    "\n",
    "a = bool(47)\n",
    "b = bool(47)\n",
    "\n",
    "print (id(a), id(b)) \n",
    "\n",
    "\"\"\"Memory address of both variables are same . This is due to object reusability concept of python. Due to interning, \n",
    "python loads integers from -5 to 256(including 256) in memory and use these objects to assign reference to all variables\n",
    "that have values within this range, even if more than one variable has same value\"\"\"\n"
   ]
  },
  {
   "cell_type": "code",
   "execution_count": 4,
   "id": "9423c851",
   "metadata": {},
   "outputs": [
    {
     "name": "stdout",
     "output_type": "stream",
     "text": [
      "2 0 1 1.0 0 1 1\n"
     ]
    }
   ],
   "source": [
    "\"\"\"Q. Arithmetic Operations on boolean data\n",
    "Take two different boolean values.\n",
    "Store them in two different variables.\n",
    "Do below operations on them:-\n",
    "Find sum of both values\n",
    "Find difference between them\n",
    "Find the product of both.\n",
    "Find value after dividing first value with second value\n",
    "Find the remainder after dividing first value with second value\n",
    "Find the quotient after dividing first value with second value\n",
    "Find the result of first value to the power of second value.\"\"\"\n",
    "\n",
    "a = bool(5) # a will have value of 1\n",
    "b = bool(10) # b will have value of 2\n",
    "\n",
    "sum1 = a + b\n",
    "diff = a - b\n",
    "prod = a * b\n",
    "div = a/b\n",
    "rem = a%b\n",
    "quot = a//b\n",
    "pow1 = a**2\n",
    "\n",
    "print(sum1, diff, prod, div, rem, quot, pow1)"
   ]
  },
  {
   "cell_type": "code",
   "execution_count": null,
   "id": "871fa1cd",
   "metadata": {},
   "outputs": [],
   "source": []
  },
  {
   "cell_type": "code",
   "execution_count": null,
   "id": "dcdb6738",
   "metadata": {},
   "outputs": [],
   "source": []
  },
  {
   "cell_type": "code",
   "execution_count": null,
   "id": "1b0a462f",
   "metadata": {},
   "outputs": [],
   "source": []
  },
  {
   "cell_type": "code",
   "execution_count": null,
   "id": "30678a7e",
   "metadata": {},
   "outputs": [],
   "source": []
  },
  {
   "cell_type": "code",
   "execution_count": null,
   "id": "7589c58e",
   "metadata": {},
   "outputs": [],
   "source": []
  },
  {
   "cell_type": "code",
   "execution_count": null,
   "id": "2423f9ee",
   "metadata": {},
   "outputs": [],
   "source": []
  },
  {
   "cell_type": "code",
   "execution_count": null,
   "id": "6cef4486",
   "metadata": {},
   "outputs": [],
   "source": []
  },
  {
   "cell_type": "code",
   "execution_count": null,
   "id": "6cac229b",
   "metadata": {},
   "outputs": [],
   "source": []
  },
  {
   "cell_type": "code",
   "execution_count": null,
   "id": "78d8c67f",
   "metadata": {},
   "outputs": [],
   "source": []
  }
 ],
 "metadata": {
  "kernelspec": {
   "display_name": "Python 3 (ipykernel)",
   "language": "python",
   "name": "python3"
  },
  "language_info": {
   "codemirror_mode": {
    "name": "ipython",
    "version": 3
   },
   "file_extension": ".py",
   "mimetype": "text/x-python",
   "name": "python",
   "nbconvert_exporter": "python",
   "pygments_lexer": "ipython3",
   "version": "3.9.7"
  }
 },
 "nbformat": 4,
 "nbformat_minor": 5
}
